{
  "nbformat": 4,
  "nbformat_minor": 0,
  "metadata": {
    "colab": {
      "provenance": [],
      "authorship_tag": "ABX9TyPkrfXlkr+Pm2gx6HlQFbu9",
      "include_colab_link": true
    },
    "kernelspec": {
      "name": "python3",
      "display_name": "Python 3"
    },
    "language_info": {
      "name": "python"
    }
  },
  "cells": [
    {
      "cell_type": "markdown",
      "metadata": {
        "id": "view-in-github",
        "colab_type": "text"
      },
      "source": [
        "<a href=\"https://colab.research.google.com/github/jakub-scpnk/Python_for_ML/blob/master/triangleCanBeConstructed.ipynb\" target=\"_parent\"><img src=\"https://colab.research.google.com/assets/colab-badge.svg\" alt=\"Open In Colab\"/></a>"
      ]
    },
    {
      "cell_type": "code",
      "source": [
        "!git clone https://github.com/jakub-scpnk/Python_for_ML.git temp"
      ],
      "metadata": {
        "colab": {
          "base_uri": "https://localhost:8080/"
        },
        "id": "50E_O_qrGiNN",
        "outputId": "3d37db92-2be6-426f-d703-45bea08a029f"
      },
      "execution_count": 17,
      "outputs": [
        {
          "output_type": "stream",
          "name": "stdout",
          "text": [
            "Cloning into 'temp'...\n",
            "remote: Enumerating objects: 38, done.\u001b[K\n",
            "remote: Counting objects: 100% (38/38), done.\u001b[K\n",
            "remote: Compressing objects: 100% (36/36), done.\u001b[K\n",
            "remote: Total 38 (delta 26), reused 3 (delta 0), pack-reused 0\u001b[K\n",
            "Receiving objects: 100% (38/38), 135.96 KiB | 1008.00 KiB/s, done.\n",
            "Resolving deltas: 100% (26/26), done.\n"
          ]
        }
      ]
    },
    {
      "cell_type": "code",
      "source": [
        "!mv -f temp/{.,}* ."
      ],
      "metadata": {
        "colab": {
          "base_uri": "https://localhost:8080/"
        },
        "id": "ZK_6D8i7Gvcj",
        "outputId": "5591d8c1-9fb3-4b11-edd4-270132c77656"
      },
      "execution_count": 18,
      "outputs": [
        {
          "output_type": "stream",
          "name": "stdout",
          "text": [
            "mv: cannot move 'temp/.' to './.': Device or resource busy\n",
            "mv: cannot move 'temp/..' to './..': Device or resource busy\n"
          ]
        }
      ]
    },
    {
      "cell_type": "code",
      "source": [
        "!rm -rf temp"
      ],
      "metadata": {
        "id": "uFEyrvb3G71N"
      },
      "execution_count": 21,
      "outputs": []
    },
    {
      "cell_type": "code",
      "source": [
        "from untitled0 import triangleCanBeConstructed\n",
        "import numpy as np\n",
        "import random\n",
        "\n",
        "A = np.random.rand(100)\n",
        "B = np.random.rand(100)\n",
        "C = np.random.rand(100)\n",
        "\n",
        "can = 0\n",
        "cant = 0\n",
        "\n",
        "for a, b, c in zip(A, B, C):\n",
        "  if triangleCanBeConstructed(a, b, c):\n",
        "    can+=1\n",
        "  else:\n",
        "    cant+=1\n",
        "\n",
        "print(can)\n",
        "print(cant)"
      ],
      "metadata": {
        "colab": {
          "base_uri": "https://localhost:8080/"
        },
        "id": "RwvYcPLWBPBu",
        "outputId": "01a21a55-70fd-45ce-850a-a32773ba5773"
      },
      "execution_count": 23,
      "outputs": [
        {
          "output_type": "stream",
          "name": "stdout",
          "text": [
            "64\n",
            "36\n"
          ]
        }
      ]
    }
  ]
}