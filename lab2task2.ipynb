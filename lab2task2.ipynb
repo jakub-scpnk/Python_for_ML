{
  "nbformat": 4,
  "nbformat_minor": 0,
  "metadata": {
    "colab": {
      "provenance": [],
      "authorship_tag": "ABX9TyP9G0W2HUMkx/7A/oO70de2",
      "include_colab_link": true
    },
    "kernelspec": {
      "name": "python3",
      "display_name": "Python 3"
    },
    "language_info": {
      "name": "python"
    }
  },
  "cells": [
    {
      "cell_type": "markdown",
      "metadata": {
        "id": "view-in-github",
        "colab_type": "text"
      },
      "source": [
        "<a href=\"https://colab.research.google.com/github/jakub-scpnk/Python_for_ML/blob/while_variant/lab2task2.ipynb\" target=\"_parent\"><img src=\"https://colab.research.google.com/assets/colab-badge.svg\" alt=\"Open In Colab\"/></a>"
      ]
    },
    {
      "cell_type": "markdown",
      "source": [
        "Instruction 2"
      ],
      "metadata": {
        "id": "OfVHwNSc0Wqh"
      }
    },
    {
      "cell_type": "markdown",
      "source": [
        "Task 2"
      ],
      "metadata": {
        "id": "xO_jCMrC0bVI"
      }
    },
    {
      "cell_type": "code",
      "execution_count": 4,
      "metadata": {
        "colab": {
          "base_uri": "https://localhost:8080/"
        },
        "id": "qN4H6kffz7-h",
        "outputId": "4bdded06-bbaf-4d67-8642-7109b3e41b19"
      },
      "outputs": [
        {
          "output_type": "stream",
          "name": "stdout",
          "text": [
            "cat\n",
            "dog\n",
            "cow\n",
            "chicken\n"
          ]
        }
      ],
      "source": [
        "listWithSomeContent = ['cat', 'dog', 'cow', 'chicken']\n",
        "i = 0\n",
        "while i < len(listWithSomeContent):\n",
        "  print(listWithSomeContent[i])\n",
        "  i+=1"
      ]
    }
  ]
}